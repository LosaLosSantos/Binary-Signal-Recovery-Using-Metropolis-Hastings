{
 "cells": [
  {
   "cell_type": "code",
   "execution_count": 37,
   "metadata": {},
   "outputs": [],
   "source": [
    "import numpy as np\n",
    "import matplotlib.pyplot as plt"
   ]
  },
  {
   "cell_type": "code",
   "execution_count": 38,
   "metadata": {},
   "outputs": [],
   "source": [
    "\"\"\"\n",
    "Genera i dati necessari per il problema.\n",
    "    \n",
    "Args:\n",
    "    m (int): Numero di misurazioni.\n",
    "    d (int): Dimensione del vettore del segnale.\n",
    "    \n",
    "Returns:\n",
    "    X (ndarray): Matrice delle misurazioni di dimensione (m, d).\n",
    "    y (ndarray): Vettore delle misurazioni di dimensione (m, ).\n",
    "    theta (ndarray): Vettore del segnale binario di dimensione (d, ).\n",
    "\"\"\"\n",
    "def generate_data(m, d):\n",
    "    X = np.random.normal(0, 1, (m, d))  # Genera la matrice X con distribuzione normale standard\n",
    "    theta = np.random.choice([0, 1], d)  # Genera il vettore del segnale theta con valori binari\n",
    "    xi = np.random.normal(0, 1, m)  # Genera il vettore del rumore xi\n",
    "    y = X @ theta + xi  # Calcola il vettore delle misurazioni y\n",
    "    return X, y, theta"
   ]
  },
  {
   "cell_type": "markdown",
   "metadata": {},
   "source": [
    "$$ 𝑦 = 𝑋𝜃 + 𝜉 $$"
   ]
  },
  {
   "cell_type": "code",
   "execution_count": 39,
   "metadata": {},
   "outputs": [],
   "source": [
    "\"\"\"\n",
    "Calcola la funzione di verosimiglianza negativa.\n",
    "    \n",
    "Args:\n",
    "    X (ndarray): Matrice delle misurazioni.\n",
    "    y (ndarray): Vettore delle misurazioni.\n",
    "    theta (ndarray): Vettore del segnale binario.\n",
    "    \n",
    "Returns:\n",
    "    float: Valore della funzione di verosimiglianza negativa.\n",
    "\"\"\"\n",
    "def H(X, y, theta):\n",
    "    return (y - X @ theta).T @ (y - X @ theta) # Norma al quadrato della differenza tra y e Xθ"
   ]
  },
  {
   "cell_type": "markdown",
   "metadata": {},
   "source": [
    "$$ H(X, y; \\theta) = (y - X\\theta)^T (y - X\\theta) $$"
   ]
  },
  {
   "cell_type": "code",
   "execution_count": 40,
   "metadata": {},
   "outputs": [],
   "source": [
    "\"\"\"\n",
    "Implementa l'algoritmo di Metropolis-Hastings per stimare il vettore del segnale theta.\n",
    "Args:\n",
    "    X (ndarray): Matrice delle misurazioni.\n",
    "    y (ndarray): Vettore delle misurazioni.\n",
    "    beta (float): Parametro di controllo per l'algoritmo.\n",
    "    N (int): Numero di iterazioni dell'algoritmo.\n",
    "    theta_init (ndarray): Vettore iniziale del segnale.\n",
    "Returns:\n",
    "        ndarray: Vettore stimato del segnale theta.\n",
    "\"\"\"   \n",
    "def metropolis_hastings(X, y, beta, N, theta_init): \n",
    "    d = theta_init.shape[0]\n",
    "    theta = theta_init.copy()\n",
    "    for t in range(N):\n",
    "        i = np.random.randint(d)  #Seleziona un indice 𝑖 casuale tra 0 e 𝑑-1\n",
    "        theta_proposal = theta.copy()\n",
    "        theta_proposal[i] = 1 - theta_proposal[i]  #Proposta di nuovi stati, cambiando quello corrente\n",
    "        # Cambiare un valore per iterazione\n",
    "        H_current = H(X, y, theta)  #Calcola H per lo stato corrente\n",
    "        H_proposal = H(X, y, theta_proposal)  #Calcola H per lo stato proposto\n",
    "        \n",
    "        acceptance_ratio = min(1, np.exp(-beta * (H_proposal - H_current)))  #Calcola il rapporto di accettazione\n",
    "        #Se lo stato proposto ha un valore di 𝐻 più basso (verosomiglianza più alta), è più probabile che venga accettato.\n",
    "        if np.random.rand() < acceptance_ratio:\n",
    "            theta = theta_proposal  # Accetta la proposta\n",
    "\n",
    "    return theta"
   ]
  },
  {
   "cell_type": "markdown",
   "metadata": {},
   "source": [
    "$$\n",
    "\\pi_{\\beta}(\\theta) = \\frac{e^{-\\beta H(X;y;\\theta)}}{Z_{\\beta}}, \\quad \\text{with} \\quad Z_{\\beta} = \\sum_{\\theta \\in \\Theta} e^{-\\beta H(X;y;\\theta)}\n",
    "$$\n"
   ]
  },
  {
   "cell_type": "code",
   "execution_count": 41,
   "metadata": {},
   "outputs": [],
   "source": [
    "\"\"\"\n",
    "Calcola l'errore quadratico medio (MSE) tra il vettore del segnale vero e quello stimato.\n",
    "    \n",
    "Args:\n",
    "    theta_true (ndarray): Vettore del segnale vero.\n",
    "    theta_est (ndarray): Vettore del segnale stimato.\n",
    "    \n",
    "Returns:\n",
    "    float: Valore dell'errore quadratico medio.\n",
    "\"\"\"\n",
    "def mean_squared_error(theta_true, theta_est):\n",
    "    return np.mean((theta_true - theta_est)**2)"
   ]
  },
  {
   "cell_type": "markdown",
   "metadata": {},
   "source": [
    "$$\n",
    "E = \\mathbb{E}\\left[ (\\hat{\\theta} - \\theta)^T (\\hat{\\theta} - \\theta) \\right]\n",
    "$$\n"
   ]
  },
  {
   "cell_type": "code",
   "execution_count": 42,
   "metadata": {},
   "outputs": [],
   "source": [
    "d = 10  # Dimensione del vettore del segnale\n",
    "ms = range(1, 16)  # Diversi valori di m (numero di misurazioni)\n",
    "beta = 1.0  # Parametro di controllo per l'algoritmo Metropolis-Hastings\n",
    "N = 80  # Numero di iterazioni dell'algoritmo\n",
    "M = 1000  # Numero di realizzazioni indipendenti"
   ]
  },
  {
   "cell_type": "code",
   "execution_count": 43,
   "metadata": {},
   "outputs": [
    {
     "name": "stderr",
     "output_type": "stream",
     "text": [
      "C:\\Users\\loris\\AppData\\Local\\Temp\\ipykernel_7172\\3392900564.py:23: RuntimeWarning: overflow encountered in exp\n",
      "  acceptance_ratio = min(1, np.exp(-beta * (H_proposal - H_current)))  #Calcola il rapporto di accettazione\n"
     ]
    }
   ],
   "source": [
    "mse_values = []  # Lista per memorizzare i valori dell'MSE\n",
    "\n",
    "# Calcolo dell'MSE per diversi valori di m\n",
    "for m in ms:\n",
    "    errors = []\n",
    "    for _ in range(M):\n",
    "        X, y, theta_true = generate_data(m, d)  # Genera i dati\n",
    "        theta_init = np.random.randint(0, 2, d)  # Inizializza casualmente theta\n",
    "        theta_est = metropolis_hastings(X, y, beta, N, theta_init)  # Stima theta usando Metropolis-Hastings\n",
    "        error = mean_squared_error(theta_true, theta_est)  # Calcola l'errore quadratico medio\n",
    "        errors.append(error)\n",
    "    \n",
    "    mse = np.mean(errors)  # Calcola la media degli errori per il valore corrente di m\n",
    "    mse_values.append(mse)"
   ]
  },
  {
   "cell_type": "code",
   "execution_count": 44,
   "metadata": {},
   "outputs": [
    {
     "data": {
      "image/png": "[encoded data removed]",
      "text/plain": [
       "<Figure size 640x480 with 1 Axes>"
      ]
     },
     "metadata": {},
     "output_type": "display_data"
    }
   ],
   "source": [
    "# Plot dei risultati\n",
    "plt.plot(ms, mse_values, marker='o')\n",
    "plt.xlabel('Numero di misurazioni (m)')\n",
    "plt.ylabel('Errore quadratico medio (MSE)')\n",
    "plt.title('Errore quadratico medio in funzione di m')\n",
    "plt.grid(True)\n",
    "plt.show()"
   ]
  },
  {
   "cell_type": "code",
   "execution_count": 45,
   "metadata": {},
   "outputs": [
    {
     "name": "stdout",
     "output_type": "stream",
     "text": [
      "Non è stato trovato un valore di m per cui l'MSE è inferiore alla soglia.\n"
     ]
    }
   ],
   "source": [
    "# Determinare il valore minimo di m per cui l'MSE è sufficientemente basso\n",
    "threshold_mse = 0.1  # Soglia arbitraria per considerare la stima affidabile\n",
    "reliable_m_indices = [i for i, mse in enumerate(mse_values) if mse < threshold_mse]\n",
    "\n",
    "if reliable_m_indices:\n",
    "    min_m = ms[reliable_m_indices[0]]\n",
    "    print(f\"Valore minimo di m/d per recuperare theta in modo affidabile: {min_m/d:.2f}\")\n",
    "else:\n",
    "    print(\"Non è stato trovato un valore di m per cui l'MSE è inferiore alla soglia.\")"
   ]
  }
 ],
 "metadata": {
  "kernelspec": {
   "display_name": "Python 3",
   "language": "python",
   "name": "python3"
  },
  "language_info": {
   "codemirror_mode": {
    "name": "ipython",
    "version": 3
   },
   "file_extension": ".py",
   "mimetype": "text/x-python",
   "name": "python",
   "nbconvert_exporter": "python",
   "pygments_lexer": "ipython3",
   "version": "3.12.1"
  }
 },
 "nbformat": 4,
 "nbformat_minor": 2
}
